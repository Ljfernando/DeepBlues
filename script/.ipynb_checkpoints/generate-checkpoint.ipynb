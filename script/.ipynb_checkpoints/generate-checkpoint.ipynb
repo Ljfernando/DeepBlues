{
 "cells": [
  {
   "cell_type": "code",
   "execution_count": 1,
   "metadata": {},
   "outputs": [],
   "source": [
    "import pandas as pd\n",
    "import numpy as np\n",
    "import torch\n",
    "import torch.nn as nn\n",
    "import torch.nn.functional as F\n",
    "import pickle as pkl\n",
    "import os \n",
    "\n",
    "from torch import optim\n",
    "from torch.utils.data import Dataset, DataLoader\n",
    "from torch.autograd import Variable\n",
    "from midiutil import MIDIFile"
   ]
  },
  {
   "cell_type": "code",
   "execution_count": 2,
   "metadata": {},
   "outputs": [],
   "source": [
    "class MelodyRNN(nn.Module):\n",
    "    def __init__(self, input_size, hidden_size):\n",
    "        super(MelodyRNN, self).__init__()\n",
    "\n",
    "        self.embedding = nn.Embedding(input_size, hidden_size, padding_idx=0)\n",
    "        self.gru = nn.GRU(hidden_size, hidden_size, batch_first=True)\n",
    "        self.out = nn.Linear(hidden_size, input_size)\n",
    "        self.dropout = nn.Dropout(0.3)\n",
    "        self.hidden = Variable(torch.zeros(1, 1, hidden_size))                \n",
    "        \n",
    "    def forward(self, x):\n",
    "        embedded = self.embedding(x)\n",
    "        embedded = self.dropout(embedded)\n",
    "        output, self.hidden = self.gru(embedded, self.hidden)\n",
    "        output = self.out(self.hidden[-1])\n",
    "        return output, self.hidden"
   ]
  },
  {
   "cell_type": "code",
   "execution_count": 3,
   "metadata": {},
   "outputs": [
    {
     "name": "stderr",
     "output_type": "stream",
     "text": [
      "/anaconda3/envs/general/lib/python3.7/site-packages/torch/serialization.py:435: SourceChangeWarning: source code of class 'torch.nn.modules.sparse.Embedding' has changed. you can retrieve the original source code by accessing the object's source attribute or set `torch.nn.Module.dump_patches = True` and use the patch tool to revert the changes.\n",
      "  warnings.warn(msg, SourceChangeWarning)\n",
      "/anaconda3/envs/general/lib/python3.7/site-packages/torch/serialization.py:435: SourceChangeWarning: source code of class 'torch.nn.modules.rnn.GRU' has changed. you can retrieve the original source code by accessing the object's source attribute or set `torch.nn.Module.dump_patches = True` and use the patch tool to revert the changes.\n",
      "  warnings.warn(msg, SourceChangeWarning)\n",
      "/anaconda3/envs/general/lib/python3.7/site-packages/torch/serialization.py:435: SourceChangeWarning: source code of class 'torch.nn.modules.linear.Linear' has changed. you can retrieve the original source code by accessing the object's source attribute or set `torch.nn.Module.dump_patches = True` and use the patch tool to revert the changes.\n",
      "  warnings.warn(msg, SourceChangeWarning)\n",
      "/anaconda3/envs/general/lib/python3.7/site-packages/torch/serialization.py:435: SourceChangeWarning: source code of class 'torch.nn.modules.dropout.Dropout' has changed. you can retrieve the original source code by accessing the object's source attribute or set `torch.nn.Module.dump_patches = True` and use the patch tool to revert the changes.\n",
      "  warnings.warn(msg, SourceChangeWarning)\n"
     ]
    }
   ],
   "source": [
    "model = torch.load('../objects/Full_RNN')\n",
    "index2chord = pkl.load( open( \"../objects/index2chord.pkl\", \"rb\" ) )"
   ]
  },
  {
   "cell_type": "code",
   "execution_count": 4,
   "metadata": {},
   "outputs": [],
   "source": [
    "def pick_rand_note(out):\n",
    "    sorted_pred = out.argsort()\n",
    "    pred = np.random.choice(sorted_pred[0][-10:].detach().numpy(), 1)[0]\n",
    "    return pred\n",
    "\n",
    "def generate(model, improv=0.5):\n",
    "    pred = 0\n",
    "    model.eval()\n",
    "    notes = []\n",
    "    all_notes = torch.tensor([[0,0,1]])\n",
    "    for i in range(96):\n",
    "        out, _ = model(all_notes)\n",
    "        if np.random.binomial(n=1, p=improv) == 1:\n",
    "            pred = pick_rand_note(out)\n",
    "        else:\n",
    "            pred = int(out.argmax())\n",
    "        \n",
    "        # Ensure notes are chosen\n",
    "        while pred == 0 or pred == 1 or pred == 2:\n",
    "            pred = pick_rand_note(out)\n",
    "            \n",
    "        all_notes = torch.cat([all_notes, torch.tensor([[pred]])], 1)\n",
    "    all_notes = torch.cat([all_notes[0], torch.tensor([2])])\n",
    "    converted_notes = [index2chord[int(note)] for note in all_notes]\n",
    "    return converted_notes\n",
    "\n",
    "def generate2(model, improv=0.5):\n",
    "    pred = 0\n",
    "    model.eval()\n",
    "    notes = []\n",
    "    all_notes = torch.tensor([[0,0,1]])\n",
    "    \n",
    "    # Generate part I\n",
    "    part_I = []\n",
    "    for i in range(16):\n",
    "        out, _ = model(all_notes)\n",
    "        if np.random.binomial(n=1, p=improv) == 1:\n",
    "            pred = pick_rand_note(out)\n",
    "        else:\n",
    "            pred = int(out.argmax())\n",
    "        \n",
    "        # Ensure notes are chosen\n",
    "        while pred == 0 or pred == 1 or pred == 2:\n",
    "            pred = pick_rand_note(out)\n",
    "            \n",
    "        part_I.append(pred)\n",
    "        all_notes = torch.cat([all_notes, torch.tensor([[pred]])], 1)\n",
    "    # Repeat part I \n",
    "    all_notes = torch.cat([all_notes, torch.tensor([part_I])], 1)\n",
    "    # Generate part IV\n",
    "    part_IV = []\n",
    "    for i in range(16):\n",
    "        out, _ = model(all_notes)\n",
    "        if np.random.randint(2) == 1:\n",
    "            pred = pick_rand_note(out)\n",
    "        else:\n",
    "            pred = int(out.argmax())\n",
    "        \n",
    "        # Ensure notes are chosen\n",
    "        while pred == 0 or pred == 1 or pred == 2:\n",
    "            pred = pick_rand_note(out)\n",
    "            \n",
    "        part_IV.append(pred)\n",
    "        all_notes = torch.cat([all_notes, torch.tensor([[pred]])], 1)\n",
    "    # Repeat part I\n",
    "    all_notes = torch.cat([all_notes, torch.tensor([part_I])], 1)\n",
    "    # Generate part V\n",
    "    part_V = []\n",
    "    for i in range(16):\n",
    "        out, _ = model(all_notes)\n",
    "        if np.random.randint(2) == 1:\n",
    "            pred = pick_rand_note(out)\n",
    "        else:\n",
    "            pred = int(out.argmax())\n",
    "        \n",
    "        # Ensure notes are chosen\n",
    "        while pred == 0 or pred == 1 or pred == 2:\n",
    "            pred = pick_rand_note(out)\n",
    "            \n",
    "        part_V.append(pred)\n",
    "        all_notes = torch.cat([all_notes, torch.tensor([[pred]])], 1) \n",
    "    # Repeat part I\n",
    "    all_notes = torch.cat([all_notes, torch.tensor([part_I])], 1)   \n",
    "    # Append ending token\n",
    "    all_notes = torch.cat([all_notes[0], torch.tensor([2])])\n",
    "    converted_notes = [index2chord[int(note)] for note in all_notes]\n",
    "    return converted_notes\n",
    "    \n",
    "note_mapper = {'C': 60, 'Db':61, 'D':62,\n",
    "               'Eb':63, 'E':64, 'F':65,\n",
    "              'Gb':66, 'G':67, 'Ab':68,\n",
    "              'A':69, 'Bb': 70, 'B':71, 'R':None}"
   ]
  },
  {
   "cell_type": "code",
   "execution_count": 45,
   "metadata": {},
   "outputs": [],
   "source": [
    "def generate_melody(output_file, gen_song=False, improv=0.5):\n",
    "    os.system('rm %s' %output_file)\n",
    "    melody = None\n",
    "    if gen_song:\n",
    "        melody = generate2(model, improv)[:-1]        \n",
    "    else:\n",
    "        melody = generate(model, improv)[:-1]\n",
    "    notes = [note_mapper[each.split('_')[0]] for each in melody[3:]]\n",
    "    lengths = [each.split('_')[1] for each in melody[3:]]    \n",
    "    track    = 0\n",
    "    channel  = 0\n",
    "    time     = 0   # In beats\n",
    "    duration = 0.5   # In beats\n",
    "    tempo    = 160  # In BPM\n",
    "    volume   = 100 # 0-127, as per the MIDI standard\n",
    "\n",
    "    MyMIDI = MIDIFile(1) # One track, defaults to format 1 (tempo track\n",
    "                         # automatically created)\n",
    "    MyMIDI.addTempo(track,time, tempo)\n",
    "\n",
    "    prev_pitch = None\n",
    "    long_note = False\n",
    "    some_notes = []\n",
    "\n",
    "    for i, pitch in enumerate(notes):\n",
    "        if pitch is None:\n",
    "            if prev_pitch is not None and long_note:\n",
    "                some_notes.append((time,prev_pitch, duration))\n",
    "                MyMIDI.addNote(track, channel, prev_pitch, time, duration, volume)\n",
    "                time += duration\n",
    "                duration = 0.5\n",
    "            prev_pitch = pitch\n",
    "            time += 0.5\n",
    "\n",
    "        elif long_note and prev_pitch != pitch and prev_pitch is not None:\n",
    "            some_notes.append((time,prev_pitch, duration))  \n",
    "            MyMIDI.addNote(track, channel, prev_pitch, time, duration, volume)\n",
    "\n",
    "            time += duration\n",
    "            duration = 0.5\n",
    "            if lengths[i] == 'L':\n",
    "                some_notes.append((time, pitch, duration))              \n",
    "                MyMIDI.addNote(track, channel, pitch, time, duration, volume)\n",
    "                long_note = False\n",
    "                time += 0.5\n",
    "\n",
    "        elif long_note and prev_pitch == pitch:\n",
    "            duration += 0.5    \n",
    "\n",
    "            if lengths[i] == 'S':\n",
    "                long_note = True\n",
    "            elif lengths[i] == 'L':\n",
    "                some_notes.append((time, pitch, duration))            \n",
    "                MyMIDI.addNote(track, channel, pitch, time, duration, volume)  \n",
    "                long_note = False\n",
    "                time += duration            \n",
    "                duration = 0.5\n",
    "\n",
    "        elif not long_note:\n",
    "            if lengths[i] == 'S':\n",
    "                long_note = True\n",
    "                prev_pitch = pitch\n",
    "            else:\n",
    "                some_notes.append((time, pitch, duration))            \n",
    "                MyMIDI.addNote(track, channel, pitch, time, duration, volume)\n",
    "                time += 0.5\n",
    "    \n",
    "        prev_pitch = pitch\n",
    "    with open(output_file, \"wb\") as output_file:\n",
    "        MyMIDI.writeFile(output_file)"
   ]
  },
  {
   "cell_type": "code",
   "execution_count": 80,
   "metadata": {},
   "outputs": [
    {
     "name": "stdout",
     "output_type": "stream",
     "text": [
      "96\n"
     ]
    }
   ],
   "source": [
    "generate_melody('../generated_songs/my_song.midi', gen_song=True, improv=0.5)"
   ]
  },
  {
   "cell_type": "code",
   "execution_count": 81,
   "metadata": {},
   "outputs": [
    {
     "name": "stdout",
     "output_type": "stream",
     "text": [
      "96\n"
     ]
    }
   ],
   "source": [
    "generate_melody('../generated_songs/my_song2.midi', gen_song=True, improv=0.1)"
   ]
  },
  {
   "cell_type": "code",
   "execution_count": 82,
   "metadata": {},
   "outputs": [
    {
     "name": "stdout",
     "output_type": "stream",
     "text": [
      "96\n"
     ]
    }
   ],
   "source": [
    "generate_melody('../generated_songs/my_song3.midi', gen_song=True, improv=0.9)"
   ]
  },
  {
   "cell_type": "code",
   "execution_count": 83,
   "metadata": {},
   "outputs": [
    {
     "name": "stdout",
     "output_type": "stream",
     "text": [
      "96\n"
     ]
    }
   ],
   "source": [
    "generate_melody('../generated_songs/my_improv.midi', gen_song=False, improv=0.5)"
   ]
  },
  {
   "cell_type": "code",
   "execution_count": 84,
   "metadata": {},
   "outputs": [
    {
     "name": "stdout",
     "output_type": "stream",
     "text": [
      "96\n"
     ]
    }
   ],
   "source": [
    "generate_melody('../generated_songs/my_improv2.midi', gen_song=False, improv=0.1)"
   ]
  },
  {
   "cell_type": "code",
   "execution_count": 85,
   "metadata": {},
   "outputs": [
    {
     "name": "stdout",
     "output_type": "stream",
     "text": [
      "96\n"
     ]
    }
   ],
   "source": [
    "generate_melody('../generated_songs/my_improv3.midi', gen_song=False, improv=0.9)"
   ]
  }
 ],
 "metadata": {
  "kernelspec": {
   "display_name": "Python 3",
   "language": "python",
   "name": "python3"
  },
  "language_info": {
   "codemirror_mode": {
    "name": "ipython",
    "version": 3
   },
   "file_extension": ".py",
   "mimetype": "text/x-python",
   "name": "python",
   "nbconvert_exporter": "python",
   "pygments_lexer": "ipython3",
   "version": "3.7.2"
  }
 },
 "nbformat": 4,
 "nbformat_minor": 2
}
